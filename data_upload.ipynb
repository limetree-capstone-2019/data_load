{
 "cells": [
  {
   "cell_type": "code",
   "execution_count": 2,
   "metadata": {},
   "outputs": [],
   "source": [
    "#!/usr/bin/env python\n",
    "import snowflake.connector"
   ]
  },
  {
   "cell_type": "code",
   "execution_count": 3,
   "metadata": {},
   "outputs": [],
   "source": [
    "# set below variable to local filesystem path\n",
    "folder_path = \"D:/Coursework/Capstone/data_load/raw_files/\""
   ]
  },
  {
   "cell_type": "code",
   "execution_count": 4,
   "metadata": {},
   "outputs": [],
   "source": [
    "# Credentials for connecting to snowflake. Migrate to properties file in the future.\n",
    "USER = 'heinzlimetree'\n",
    "ACCOUNT = 'um21928.us-east-1'\n",
    "WAREHOUSE = 'COMPUTE-WH'\n",
    "DATABASE = 'INSTITUTIONS2'\n",
    "SCHEMA = 'PUBLIC'\n",
    "PASSWORD = 'Limetree123'"
   ]
  },
  {
   "cell_type": "code",
   "execution_count": 5,
   "metadata": {},
   "outputs": [],
   "source": [
    "#creating a connection to snowflake to interact with the api\n",
    "con = snowflake.connector.connect(\n",
    "  user=USER,\n",
    "  password=PASSWORD,\n",
    "  account=ACCOUNT,\n",
    "  warehouse=WAREHOUSE,\n",
    "  database=DATABASE,\n",
    "  schema=SCHEMA\n",
    ")"
   ]
  },
  {
   "cell_type": "code",
   "execution_count": 6,
   "metadata": {},
   "outputs": [],
   "source": [
    "def data_load(con,table_name,file_location):\n",
    "    # Pushing data from local files\n",
    "    con.cursor().execute(\"PUT file:///{0} @%{1}\".format(file_location,table_name))\n",
    "    con.cursor().execute(\"use warehouse compute_wh\")\n",
    "    con.cursor().execute(\"COPY INTO {0} FILE_FORMAT='INS'\".format(table_name))"
   ]
  },
  {
   "cell_type": "code",
   "execution_count": 30,
   "metadata": {},
   "outputs": [],
   "source": [
    "fdic_file_location = folder_path + \"fdic/\"\n",
    "data_load(con,'fdic_institution',fdic_file_location+\"institutions.csv\")\n",
    "data_load(con,'fdic_locations',fdic_file_location+\"locations.csv\")"
   ]
  },
  {
   "cell_type": "code",
   "execution_count": 26,
   "metadata": {},
   "outputs": [],
   "source": [
    "fdic_file_location = folder_path + \"ffiec/\"\n",
    "#data_load(con,'ffiec_branches',fdic_file_location+\"CSV_ATTRIBUTES_BRANCHES.CSV\")\n",
    "#data_load(con,'ffiec_active',fdic_file_location+\"CSV_ATTRIBUTES_ACTIVE.CSV\")\n",
    "#data_load(con,'ffiec_closed',fdic_file_location+\"CSV_ATTRIBUTES_CLOSED.CSV\")\n",
    "#data_load(con,'ffiec_relationships',fdic_file_location+\"CSV_RELATIONSHIPS.CSV\")\n",
    "data_load(con,'ffiec_transformations',fdic_file_location+\"CSV_TRANSFORMATIONS.CSV\")"
   ]
  },
  {
   "cell_type": "code",
   "execution_count": null,
   "metadata": {},
   "outputs": [],
   "source": []
  }
 ],
 "metadata": {
  "kernelspec": {
   "display_name": "Python 3",
   "language": "python",
   "name": "python3"
  },
  "language_info": {
   "codemirror_mode": {
    "name": "ipython",
    "version": 3
   },
   "file_extension": ".py",
   "mimetype": "text/x-python",
   "name": "python",
   "nbconvert_exporter": "python",
   "pygments_lexer": "ipython3",
   "version": "3.7.3"
  }
 },
 "nbformat": 4,
 "nbformat_minor": 2
}
