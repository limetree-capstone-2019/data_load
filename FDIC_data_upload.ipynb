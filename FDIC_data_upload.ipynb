{
 "cells": [
  {
   "cell_type": "code",
   "execution_count": 1,
   "metadata": {},
   "outputs": [],
   "source": [
    "#!/usr/bin/env python\n",
    "import snowflake.connector"
   ]
  },
  {
   "cell_type": "code",
   "execution_count": null,
   "metadata": {},
   "outputs": [],
   "source": [
    "# set below variable to local filesystem path\n",
    "folder_path = \"\""
   ]
  },
  {
   "cell_type": "code",
   "execution_count": 2,
   "metadata": {},
   "outputs": [],
   "source": [
    "# Credentials for connecting to snowflake. Migrate to properties file in the future.\n",
    "USER = 'heinzlimetree'\n",
    "ACCOUNT = 'um21928.us-east-1'\n",
    "WAREHOUSE = 'COMPUTE-WH'\n",
    "DATABASE = 'INSTITUTIONS2'\n",
    "SCHEMA = 'PUBLIC'\n",
    "PASSWORD = 'Limetree123'"
   ]
  },
  {
   "cell_type": "code",
   "execution_count": 3,
   "metadata": {},
   "outputs": [],
   "source": [
    "#creating a connection to snowflake to interact with the api\n",
    "con = snowflake.connector.connect(\n",
    "  user=USER,\n",
    "  password=PASSWORD,\n",
    "  account=ACCOUNT,\n",
    "  warehouse=WAREHOUSE,\n",
    "  database=DATABASE,\n",
    "  schema=SCHEMA\n",
    ")"
   ]
  },
  {
   "cell_type": "code",
   "execution_count": 5,
   "metadata": {},
   "outputs": [],
   "source": [
    "def data_load(con,table_name,file_location):\n",
    "    # Pushing data from local files\n",
    "    con.cursor().execute(\"PUT file:///{0} @%{1}\".format(file_location,table_name))\n",
    "    con.cursor().execute(\"use warehouse compute_wh\")\n",
    "    con.cursor().execute(\"COPY INTO {0}\".format(table_name))"
   ]
  },
  {
   "cell_type": "code",
   "execution_count": null,
   "metadata": {},
   "outputs": [],
   "source": [
    "file_location = folder_path + \"\"\n",
    "data_load(con,'fdic_locations','file_location')"
   ]
  }
 ],
 "metadata": {
  "kernelspec": {
   "display_name": "Python 3",
   "language": "python",
   "name": "python3"
  },
  "language_info": {
   "codemirror_mode": {
    "name": "ipython",
    "version": 3
   },
   "file_extension": ".py",
   "mimetype": "text/x-python",
   "name": "python",
   "nbconvert_exporter": "python",
   "pygments_lexer": "ipython3",
   "version": "3.7.3"
  }
 },
 "nbformat": 4,
 "nbformat_minor": 2
}
