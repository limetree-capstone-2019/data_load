{
 "cells": [
  {
   "cell_type": "code",
   "execution_count": 1,
   "metadata": {},
   "outputs": [],
   "source": [
    "#!/usr/bin/env python\n",
    "import snowflake.connector"
   ]
  },
  {
   "cell_type": "code",
   "execution_count": 2,
   "metadata": {},
   "outputs": [],
   "source": [
    "# Credentials for connecting to snowflake. Migrate to properties file in the future.\n",
    "USER = 'heinzlimetree'\n",
    "ACCOUNT = 'um21928.us-east-1'\n",
    "WAREHOUSE = 'COMPUTE-WH'\n",
    "DATABASE = 'INSTITUTIONS2'\n",
    "SCHEMA = 'PUBLIC'\n",
    "PASSWORD = 'Limetree123'"
   ]
  },
  {
   "cell_type": "code",
   "execution_count": 3,
   "metadata": {},
   "outputs": [],
   "source": [
    "#creating a connection to snowflake to interact with the api\n",
    "con = snowflake.connector.connect(\n",
    "  user=USER,\n",
    "  password=PASSWORD,\n",
    "  account=ACCOUNT,\n",
    "  warehouse=WAREHOUSE,\n",
    "  database=DATABASE,\n",
    "  schema=SCHEMA\n",
    ")"
   ]
  },
  {
   "cell_type": "code",
   "execution_count": 5,
   "metadata": {},
   "outputs": [
    {
     "data": {
      "text/plain": [
       "<snowflake.connector.cursor.SnowflakeCursor at 0x26fdaf35160>"
      ]
     },
     "execution_count": 5,
     "metadata": {},
     "output_type": "execute_result"
    }
   ],
   "source": [
    "# Creating ffiec branches table in snowflake\n",
    "con.cursor().execute('''CREATE or REPLACE TABLE \n",
    "  ffiec_branches\n",
    "    (ID_RSSD NUMERIC,\n",
    "    D_DT_START DATE,\n",
    "    D_DT_END DATE,\n",
    "    BHC_IND NUMERIC,\n",
    "    BROAD_REG_CD NUMERIC,\n",
    "    CHTR_AUTH_CD NUMERIC,\n",
    "    CHTR_TYPE_CD NUMERIC,\n",
    "    FBO_4C9_IND NUMERIC,\n",
    "    FHC_IND NUMERIC,\n",
    "    FUNC_REG NUMERIC,\n",
    "    INSUR_PRI_CD NUMERIC,\n",
    "    MBR_FHLBS_IND NUMERIC,\n",
    "    MBR_FRS_IND NUMERIC,\n",
    "    SEC_RPTG_STATUS NUMERIC,\n",
    "    EST_TYPE_CD NUMERIC,\n",
    "    BANK_CNT NUMERIC,\n",
    "    BNK_TYPE_ANALYS_CD NUMERIC,\n",
    "    D_DT_EXIST_CMNC DATE,\n",
    "    D_DT_EXIST_TERM DATE,\n",
    "    FISC_YREND_MMDD NUMERIC,\n",
    "    D_DT_INSUR NUMERIC,\n",
    "    D_DT_OPEN DATE,\n",
    "    FNCL_SUB_HOLDER NUMERIC,\n",
    "    FNCL_SUB_IND NUMERIC,\n",
    "    IBA_GRNDFTHR_IND NUMERIC,\n",
    "    IBF_IND NUMERIC,\n",
    "    ID_RSSD_HD_OFF NUMERIC,\n",
    "    MJR_OWN_MNRTY NUMERIC,\n",
    "    NM_LGL varchar,\n",
    "    NM_SHORT varchar,\n",
    "    NM_SRCH_CD NUMERIC,\n",
    "    ORG_TYPE_CD NUMERIC,\n",
    "    REASON_TERM_CD NUMERIC,\n",
    "    CNSRVTR_CD NUMERIC,\n",
    "    ENTITY_TYPE varchar,\n",
    "    AUTH_REG_DIST_FRS NUMERIC,\n",
    "    ACT_PRIM_CD NUMERIC,\n",
    "    CITY varchar,\n",
    "    CNTRY_NM varchar,\n",
    "    ID_CUSIP NUMERIC,\n",
    "    STATE_ABBR_NM varchar,\n",
    "    PLACE_CD NUMERIC,\n",
    "    STATE_CD NUMERIC,\n",
    "    STATE_HOME_CD NUMERIC,\n",
    "    STREET_LINE1 varchar,\n",
    "    STREET_LINE2 NUMERIC,\n",
    "    ZIP_CD NUMERIC,\n",
    "    ID_THRIFT NUMERIC,\n",
    "    ID_THRIFT_HC NUMERIC,\n",
    "    DOMESTIC_IND varchar,\n",
    "    ID_ABA_PRIM NUMERIC,\n",
    "    ID_FDIC_CERT NUMERIC,\n",
    "    ID_NCUA NUMERIC,\n",
    "    COUNTY_CD NUMERIC,\n",
    "    DIST_FRS NUMERIC,\n",
    "    ID_OCC NUMERIC,\n",
    "    CNTRY_CD NUMERIC,\n",
    "    DT_END NUMERIC,\n",
    "    DT_EXIST_CMNC NUMERIC,\n",
    "    DT_EXIST_TERM NUMERIC,\n",
    "    DT_INSUR NUMERIC,\n",
    "    DT_OPEN NUMERIC,\n",
    "    DT_START NUMERIC,\n",
    "    ID_TAX NUMERIC,\n",
    "    PROV_REGION NUMERIC,\n",
    "    URL NUMERIC,\n",
    "    SLHC_IND NUMERIC,\n",
    "    SLHC_TYPE_IND NUMERIC,\n",
    "    PRIM_FED_REG NUMERIC,\n",
    "    STATE_INC_CD NUMERIC,\n",
    "    CNTRY_INC_CD NUMERIC,\n",
    "    STATE_INC_ABBR_NM NUMERIC,\n",
    "    CNTRY_INC_NM NUMERIC,\n",
    "    ID_LEI NUMERIC,\n",
    "    IHC_IND NUMERIC)\n",
    "    ''')"
   ]
  },
  {
   "cell_type": "code",
   "execution_count": 7,
   "metadata": {},
   "outputs": [
    {
     "data": {
      "text/plain": [
       "<snowflake.connector.cursor.SnowflakeCursor at 0x26fdb605c88>"
      ]
     },
     "execution_count": 7,
     "metadata": {},
     "output_type": "execute_result"
    }
   ],
   "source": [
    "# Creating ffiec active table in snowflake\n",
    "con.cursor().execute('''CREATE or REPLACE TABLE \n",
    "   ffiec_active\n",
    "    (ID_RSSD NUMERIC,\n",
    "     D_DT_START DATE,\n",
    "     D_DT_END   DATE,\n",
    "     BHC_IND NUMERIC)\n",
    "    ''')"
   ]
  },
  {
   "cell_type": "code",
   "execution_count": 10,
   "metadata": {},
   "outputs": [
    {
     "data": {
      "text/plain": [
       "<snowflake.connector.cursor.SnowflakeCursor at 0x26fdb66db00>"
      ]
     },
     "execution_count": 10,
     "metadata": {},
     "output_type": "execute_result"
    }
   ],
   "source": [
    "# Creating ffiec closed table in snowflake\n",
    "con.cursor().execute('''CREATE or REPLACE TABLE \n",
    "   ffiec_closed\n",
    "    (ID_RSSD NUMERIC,\n",
    "    D_DT_START DATE,\n",
    "    D_DT_END DATE,\n",
    "    BHC_IND NUMERIC,\n",
    "    BROAD_REG_CD NUMERIC,\n",
    "    CHTR_AUTH_CD NUMERIC,\n",
    "    CHTR_TYPE_CD NUMERIC,\n",
    "    FBO_4C9_IND NUMERIC,\n",
    "    FHC_IND NUMERIC,\n",
    "    FUNC_REG NUMERIC,\n",
    "    INSUR_PRI_CD NUMERIC,\n",
    "    MBR_FHLBS_IND NUMERIC,\n",
    "    MBR_FRS_IND NUMERIC,\n",
    "    SEC_RPTG_STATUS NUMERIC,\n",
    "    EST_TYPE_CD NUMERIC,\n",
    "    BANK_CNT NUMERIC,\n",
    "    BNK_TYPE_ANALYS_CD NUMERIC,\n",
    "    D_DT_EXIST_CMNC DATE ,\n",
    "    D_DT_EXIST_TERM DATE,\n",
    "    FISC_YREND_MMDD NUMERIC,\n",
    "    D_DT_INSUR NUMERIC,\n",
    "    D_DT_OPEN NUMERIC,\n",
    "    FNCL_SUB_HOLDER NUMERIC,\n",
    "    FNCL_SUB_IND NUMERIC,\n",
    "    IBA_GRNDFTHR_IND NUMERIC,\n",
    "    IBF_IND NUMERIC,\n",
    "    ID_RSSD_HD_OFF NUMERIC,\n",
    "    MJR_OWN_MNRTY NUMERIC,\n",
    "    NM_LGL VARCHAR,NM_SHORT VARCHAR,\n",
    "    NM_SRCH_CD NUMERIC,\n",
    "    ORG_TYPE_CD NUMERIC,\n",
    "    REASON_TERM_CD NUMERIC,\n",
    "    CNSRVTR_CD NUMERIC,\n",
    "    ENTITY_TYPE VARCHAR,\n",
    "    AUTH_REG_DIST_FRS NUMERIC,\n",
    "    ACT_PRIM_CD NUMERIC,\n",
    "    CITY VARCHAR,\n",
    "    CNTRY_NM VARCHAR,\n",
    "    ID_CUSIP NUMERIC,\n",
    "    STATE_ABBR_NM VARCHAR,\n",
    "    PLACE_CD NUMERIC,\n",
    "    STATE_CD NUMERIC,\n",
    "    STATE_HOME_CD NUMERIC,\n",
    "    STREET_LINE1 VARCHAR,\n",
    "    STREET_LINE2 NUMERIC,\n",
    "    ZIP_CD NUMERIC,\n",
    "    ID_THRIFT NUMERIC,\n",
    "    ID_THRIFT_HC NUMERIC,\n",
    "    DOMESTIC_IND VARCHAR,\n",
    "    ID_ABA_PRIM NUMERIC,\n",
    "    ID_FDIC_CERT NUMERIC,\n",
    "    ID_NCUA NUMERIC,\n",
    "    COUNTY_CD NUMERIC,\n",
    "    DIST_FRS NUMERIC,\n",
    "    ID_OCC NUMERIC,\n",
    "    CNTRY_CD NUMERIC,\n",
    "    DT_END NUMERIC,\n",
    "    DT_EXIST_CMNC NUMERIC,\n",
    "    DT_EXIST_TERM NUMERIC,\n",
    "    DT_INSUR NUMERIC,\n",
    "    DT_OPEN NUMERIC,\n",
    "    DT_START NUMERIC,\n",
    "    ID_TAX NUMERIC,\n",
    "    PROV_REGION NUMERIC,\n",
    "    URL NUMERIC,\n",
    "    SLHC_IND NUMERIC,\n",
    "    SLHC_TYPE_IND NUMERIC,\n",
    "    PRIM_FED_REG VARCHAR,\n",
    "    STATE_INC_CD NUMERIC,\n",
    "    CNTRY_INC_CD NUMERIC,\n",
    "    STATE_INC_ABBR_NM NUMERIC,\n",
    "    CNTRY_INC_NM NUMERIC,\n",
    "    ID_LEI NUMERIC,\n",
    "    IHC_IND NUMERIC)\n",
    "    ''')"
   ]
  },
  {
   "cell_type": "code",
   "execution_count": 12,
   "metadata": {},
   "outputs": [
    {
     "data": {
      "text/plain": [
       "<snowflake.connector.cursor.SnowflakeCursor at 0x26fdb618ba8>"
      ]
     },
     "execution_count": 12,
     "metadata": {},
     "output_type": "execute_result"
    }
   ],
   "source": [
    "# Creating ffiec relationships table in snowflake\n",
    "con.cursor().execute('''CREATE or REPLACE TABLE \n",
    "   ffiec_relationships\n",
    "    (ID_RSSD_PARENT NUMERIC,\n",
    "    ID_RSSD_OFFSPRING NUMERIC,\n",
    "    D_DT_START DATE,\n",
    "    RELN_LVL NUMERIC,\n",
    "    CTRL_IND NUMERIC,\n",
    "    D_DT_RELN_EST DATE,\n",
    "    EQUITY_IND NUMERIC,\n",
    "    OTHER_BASIS_IND NUMERIC,\n",
    "    PCT_EQUITY NUMERIC,\n",
    "    PCT_OTHER NUMERIC,\n",
    "    REASON_ROW_CRTD NUMERIC,\n",
    "    REASON_TERM_RELN NUMERIC,\n",
    "    REG_IND NUMERIC,\n",
    "    PCT_EQUITY_BRACKET VARCHAR,\n",
    "    PCT_EQUITY_FORMAT VARCHAR,\n",
    "    D_DT_END NUMERIC,\n",
    "    MB_COST NUMERIC,\n",
    "    FC_IND NUMERIC,\n",
    "    REGK_INV NUMERIC,\n",
    "    DT_END DATE,\n",
    "    DT_RELN_EST DATE,\n",
    "    DT_START DATE)\n",
    "    ''')"
   ]
  },
  {
   "cell_type": "code",
   "execution_count": 14,
   "metadata": {},
   "outputs": [
    {
     "data": {
      "text/plain": [
       "<snowflake.connector.cursor.SnowflakeCursor at 0x26fdb618390>"
      ]
     },
     "execution_count": 14,
     "metadata": {},
     "output_type": "execute_result"
    }
   ],
   "source": [
    "# Creating ffiec relationships table in snowflake\n",
    "con.cursor().execute('''CREATE or REPLACE TABLE \n",
    "     ffiec_transformations\n",
    "    (ID_RSSD_PREDECESSOR NUMERIC,\n",
    "    ID_RSSD_SUCCESSOR NUMERIC,\n",
    "    D_DT_TRANS DATE,\n",
    "    TRNSFM_CD NUMERIC,\n",
    "    ACCT_METHOD NUMERIC,\n",
    "    DT_TRANS NUMERIC)  \n",
    "    ''')"
   ]
  },
  {
   "cell_type": "code",
   "execution_count": null,
   "metadata": {},
   "outputs": [],
   "source": []
  }
 ],
 "metadata": {
  "kernelspec": {
   "display_name": "Python 3",
   "language": "python",
   "name": "python3"
  },
  "language_info": {
   "codemirror_mode": {
    "name": "ipython",
    "version": 3
   },
   "file_extension": ".py",
   "mimetype": "text/x-python",
   "name": "python",
   "nbconvert_exporter": "python",
   "pygments_lexer": "ipython3",
   "version": "3.7.3"
  }
 },
 "nbformat": 4,
 "nbformat_minor": 2
}
