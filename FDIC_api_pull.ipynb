{
 "cells": [
  {
   "cell_type": "markdown",
   "metadata": {},
   "source": [
    "Script to pull and parse data from FDIC using their api and pushing this data into flat files. Currently no authorisation is needed but if the pipeline breaks in the future please visit : https://banks.data.fdic.gov/docs/#/Structure for key details."
   ]
  },
  {
   "cell_type": "code",
   "execution_count": 13,
   "metadata": {},
   "outputs": [],
   "source": [
    "import requests \n",
    "import json"
   ]
  },
  {
   "cell_type": "code",
   "execution_count": 26,
   "metadata": {},
   "outputs": [],
   "source": [
    "# Code block to pull institutional information based on states\n",
    "# TODO : parse the index field in response and values with data stored in a properties file \n",
    "# to ensure we are not pulling data from same file twice\n",
    "def institutions_data (query_filter):\n",
    "    institutions = []\n",
    "    offset = 0\n",
    "    limit = 10\n",
    "    params = {\"filters\": \"STNAME: Pennsylvania\", \"limit\":10, \"offset\":0, \"format\":\"json\"}\n",
    "    result = requests.get(\"https://banks.data.fdic.gov/api/institutions\", params = params)\n",
    "    data = json.loads(result.text)\n",
    "    institutions += data['data']\n",
    "    while offset<data['totals']['count']:\n",
    "        offset += limit\n",
    "        params = {\"filters\": \"STNAME: Pennsylvania\", \"limit\":limit, \"offset\":offset, \"format\":\"json\"}\n",
    "        result = requests.get(\"https://banks.data.fdic.gov/api/institutions\", params = params)\n",
    "        data = json.loads(result.text)\n",
    "        institutions += data['data']\n",
    "    return institutions "
   ]
  },
  {
   "cell_type": "code",
   "execution_count": 28,
   "metadata": {},
   "outputs": [],
   "source": [
    "def locations_data (query_filter):\n",
    "    locations = []\n",
    "    offset = 0\n",
    "    limit = 10\n",
    "    params = {\"filters\": query_filter, \"limit\":10, \"offset\":0, \"format\":\"json\"}\n",
    "    result = requests.get(\"https://banks.data.fdic.gov/api/locations\", params = params)\n",
    "    data = json.loads(result.text)\n",
    "    locations += data['data']\n",
    "    while offset<data['totals']['count']:\n",
    "        offset += limit\n",
    "        params = {\"filters\": \"STNAME: Pennsylvania\", \"limit\":limit, \"offset\":offset, \"format\":\"json\"}\n",
    "        result = requests.get(\"https://banks.data.fdic.gov/api/locations\", params = params)\n",
    "        data = json.loads(result.text)\n",
    "        locations += data['data']\n",
    "    return locations"
   ]
  },
  {
   "cell_type": "code",
   "execution_count": 31,
   "metadata": {},
   "outputs": [],
   "source": [
    "locations = locations_data('STNAME: Pennsylvania')\n",
    "institutions = institutions_data('STNAME: Pennsylvania')"
   ]
  },
  {
   "cell_type": "code",
   "execution_count": 30,
   "metadata": {},
   "outputs": [
    {
     "name": "stdout",
     "output_type": "stream",
     "text": [
      "4075\n"
     ]
    }
   ],
   "source": [
    "print(len(locations))"
   ]
  },
  {
   "cell_type": "code",
   "execution_count": null,
   "metadata": {},
   "outputs": [],
   "source": []
  }
 ],
 "metadata": {
  "kernelspec": {
   "display_name": "Python 3",
   "language": "python",
   "name": "python3"
  },
  "language_info": {
   "codemirror_mode": {
    "name": "ipython",
    "version": 3
   },
   "file_extension": ".py",
   "mimetype": "text/x-python",
   "name": "python",
   "nbconvert_exporter": "python",
   "pygments_lexer": "ipython3",
   "version": "3.7.3"
  }
 },
 "nbformat": 4,
 "nbformat_minor": 2
}
