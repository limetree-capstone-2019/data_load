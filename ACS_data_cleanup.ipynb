{
 "cells": [
  {
   "cell_type": "markdown",
   "metadata": {},
   "source": [
    "# ACS Data Cleanup"
   ]
  },
  {
   "cell_type": "markdown",
   "metadata": {},
   "source": [
    "This script will load acs files from different years and based on the file name it will pick up the necssary files and delete the rest of the entries. We need to manually clean these files as there are too many inconsistencies across files for different years. "
   ]
  },
  {
   "cell_type": "code",
   "execution_count": 61,
   "metadata": {},
   "outputs": [],
   "source": [
    "import pandas as pd\n",
    "import os"
   ]
  },
  {
   "cell_type": "markdown",
   "metadata": {},
   "source": [
    "## Lists containing columns for each file."
   ]
  },
  {
   "cell_type": "code",
   "execution_count": 62,
   "metadata": {},
   "outputs": [],
   "source": [
    "B02001=['GEO.id2','HD01_VD01','HD01_VD02','HD01_VD03','HD01_VD04','HD01_VD05','HD01_VD06','HD01_VD07']\n",
    "DP03=['GEO.id2','HC01_VC04','HC01_VC36','HC01_VC50','HC01_VC51','HC01_VC52','HC01_VC53','HC01_VC54','HC01_VC55','HC01_VC56','HC01_VC57','HC01_VC58','HC01_VC59','HC01_VC60','HC01_VC61','HC01_VC62']\n",
    "DP04=['GEO.id2','HC01_VC03','HC01_VC04','HC01_VC05']\n",
    "S0101=['GEO.id2','HC01_EST_VC01','HC02_EST_VC01','HC03_EST_VC01','HC01_EST_VC25','HC01_EST_VC29','HC01_EST_VC35']\n",
    "S0101_17=['GEO.id2','HC01_EST_VC01','HC02_EST_VC01','HC03_EST_VC01','HC01_EST_VC25','HC01_EST_VC29','HC01_EST_VC37']"
   ]
  },
  {
   "cell_type": "markdown",
   "metadata": {},
   "source": [
    "## Loading, cleaning and writing to a file"
   ]
  },
  {
   "cell_type": "code",
   "execution_count": 64,
   "metadata": {
    "scrolled": true
   },
   "outputs": [
    {
     "name": "stdout",
     "output_type": "stream",
     "text": [
      "file ACS_11_5YR_S0101_with_ann.csv\n",
      "file ACS_12_5YR_S0101_with_ann.csv\n",
      "file ACS_13_5YR_S0101_with_ann.csv\n",
      "file ACS_14_5YR_S0101_with_ann.csv\n",
      "file ACS_15_5YR_S0101_with_ann.csv\n",
      "file ACS_16_5YR_S0101_with_ann.csv\n",
      "file ACS_17_5YR_S0101_with_ann.csv\n"
     ]
    }
   ],
   "source": [
    "directory = \"D:\\\\Coursework\\\\Capstone\\\\acs\\\\ACS\"\n",
    "folders = os.listdir(directory)\n",
    "for folder in folders:\n",
    "    files = os.listdir(directory + '\\\\' + folder)\n",
    "    for file in files:\n",
    "        print('file',file)\n",
    "        df = pd.read_csv(directory+'\\\\' + folder+'\\\\'+file)\n",
    "        if folder =='B02001':\n",
    "            #print(B02001)\n",
    "            df = df[B02001]\n",
    "        elif folder =='DP03':\n",
    "            df = df[DP03]\n",
    "        elif folder =='DP04':\n",
    "            df = df[DP04]\n",
    "        elif folder == 'S0101':\n",
    "            if file =='ACS_17_5YR_S0101_with_ann.csv':\n",
    "                df = df[S0101_17]\n",
    "                df['HC01_EST_VC35']= df['HC01_EST_VC37']\n",
    "                df = df.drop('HC01_EST_VC37',axis=1)\n",
    "            else:\n",
    "                df = df[S0101]\n",
    "        df = df.drop(df.index[0])\n",
    "        year = file[4:6]\n",
    "        df['year']= '20'+year\n",
    "        df.to_csv(directory+'\\\\' + folder+'\\\\'+file, index=False)"
   ]
  },
  {
   "cell_type": "code",
   "execution_count": null,
   "metadata": {},
   "outputs": [],
   "source": []
  }
 ],
 "metadata": {
  "kernelspec": {
   "display_name": "Python 3",
   "language": "python",
   "name": "python3"
  },
  "language_info": {
   "codemirror_mode": {
    "name": "ipython",
    "version": 3
   },
   "file_extension": ".py",
   "mimetype": "text/x-python",
   "name": "python",
   "nbconvert_exporter": "python",
   "pygments_lexer": "ipython3",
   "version": "3.7.3"
  }
 },
 "nbformat": 4,
 "nbformat_minor": 2
}
