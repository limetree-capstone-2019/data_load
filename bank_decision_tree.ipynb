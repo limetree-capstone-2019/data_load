{
 "cells": [
  {
   "cell_type": "code",
   "execution_count": 54,
   "metadata": {},
   "outputs": [],
   "source": [
    "import string\n",
    "import numpy as np\n",
    "import pandas as pd\n",
    "import sklearn\n",
    "from sklearn.metrics import accuracy_score\n",
    "from sklearn.metrics import confusion_matrix \n",
    "import matplotlib.pyplot as plt\n",
    "import seaborn as sns\n",
    "from sklearn.model_selection import train_test_split\n",
    "from sklearn import tree\n",
    "from sklearn.ensemble import RandomForestClassifier\n",
    "from sklearn.metrics import f1_score"
   ]
  },
  {
   "cell_type": "code",
   "execution_count": 45,
   "metadata": {},
   "outputs": [],
   "source": [
    "def file_read_clean(filename):\n",
    "    dataset_directory = \"D:\\\\Coursework\\\\Capstone\\\\clean_repo\\\\data_load\\\\dataset\"\n",
    "    bank_vs_demo = pd.read_csv(dataset_directory+\"\\\\\"+filename)\n",
    "    print(bank_vs_demo.columns)\n",
    "    # drop year, state, zip\n",
    "    bank_vs_demo = bank_vs_demo.drop(['Unnamed: 0','year','state','zip','bank_open','bank_close',\n",
    "                                                                'bank_net'], axis=1)\n",
    "    data_list = bank_vs_demo.drop('ground_truth', axis=1)\n",
    "    label_list = bank_vs_demo['ground_truth'] \n",
    "    #Create train and test data. test_size 0.3 means 30% of data will be test data.\n",
    "    #change dataframe to matrix - data_list and label-list\n",
    "    train_features, test_features, train_labels, test_labels = train_test_split(data_list.as_matrix(), label_list.as_matrix(), test_size=0.3, random_state=None )\n",
    "    return train_features, test_features, train_labels, test_labels"
   ]
  },
  {
   "cell_type": "code",
   "execution_count": 46,
   "metadata": {},
   "outputs": [],
   "source": [
    "def confusion_matrix_accuracy(test_labels,pred_labels):\n",
    "    # create confusion matrix\n",
    "    matrix = confusion_matrix(test_labels, pred_labels)\n",
    "    accuracy = accuracy_score(test_labels, pred_labels)\n",
    "    # print the accuracy score on the test data\n",
    "    print('Accuracy Score :',accuracy)\n",
    "    return matrix,accuracy"
   ]
  },
  {
   "cell_type": "code",
   "execution_count": 47,
   "metadata": {},
   "outputs": [],
   "source": [
    "def f1(pred, ground):\n",
    "    \"\"\" evaluates a classifier based on a supplied validation data\n",
    "\n",
    "    args:\n",
    "        pred: numpy.ndarray(bool) -- predictions\n",
    "        ground: numpy.ndarray(bool) -- known ground-truth values\n",
    "    \n",
    "    return : double -- the F1 score of the predictions\n",
    "    \"\"\"\n",
    "    pred = np.array(pred, dtype=bool)\n",
    "    ground = np.array(ground, dtype=bool)\n",
    "\n",
    "    return f1_score(ground,pred)"
   ]
  },
  {
   "cell_type": "code",
   "execution_count": 55,
   "metadata": {},
   "outputs": [],
   "source": [
    "def train_evaluate(train_features,train_labels):\n",
    "    #option1 decision tree classifier model\n",
    "    clf = RandomForestClassifier(max_depth = 3,random_state=0)\n",
    "    clf = clf.fit(train_features, train_labels)\n",
    "\n",
    "    # create prediction\n",
    "    predicted = clf.predict(train_features)\n",
    "    return predicted,clf"
   ]
  },
  {
   "cell_type": "code",
   "execution_count": 59,
   "metadata": {},
   "outputs": [
    {
     "name": "stdout",
     "output_type": "stream",
     "text": [
      "Index(['Unnamed: 0', 'year', 'state', 'zip', 'bank_open', 'bank_close',\n",
      "       'bank_net', 'ground_truth', 'small_business_loan', 'deposit',\n",
      "       'white_population', 'black_and_african_population',\n",
      "       'indian_and_alaska_population', 'asian_population',\n",
      "       'islander_population', 'other_race_population', 'population',\n",
      "       'age_18_over_percent', 'age_60_over_percent', 'population_0_to_17',\n",
      "       'population_18_to_59', 'poplulation_over_60', 'unemployment_rate',\n",
      "       'household_income', 'state_AK', 'state_AL', 'state_AR', 'state_AZ',\n",
      "       'state_CA', 'state_CO', 'state_CT', 'state_DC', 'state_DE', 'state_FL',\n",
      "       'state_GA', 'state_HI', 'state_IA', 'state_ID', 'state_IL', 'state_IN',\n",
      "       'state_KS', 'state_KY', 'state_LA', 'state_MA', 'state_MD', 'state_ME',\n",
      "       'state_MI', 'state_MN', 'state_MO', 'state_MS', 'state_MT', 'state_NC',\n",
      "       'state_ND', 'state_NE', 'state_NH', 'state_NJ', 'state_NM', 'state_NV',\n",
      "       'state_NY', 'state_OH', 'state_OK', 'state_OR', 'state_PA', 'state_RI',\n",
      "       'state_SC', 'state_SD', 'state_TN', 'state_TX', 'state_UT', 'state_VA',\n",
      "       'state_VT', 'state_WA', 'state_WI', 'state_WV', 'state_WY'],\n",
      "      dtype='object')\n"
     ]
    },
    {
     "name": "stderr",
     "output_type": "stream",
     "text": [
      "D:\\ProgramFiles\\lib\\site-packages\\ipykernel_launcher.py:12: FutureWarning: Method .as_matrix will be removed in a future version. Use .values instead.\n",
      "  if sys.path[0] == '':\n",
      "D:\\ProgramFiles\\lib\\site-packages\\sklearn\\ensemble\\forest.py:245: FutureWarning: The default value of n_estimators will change from 10 in version 0.20 to 100 in 0.22.\n",
      "  \"10 in version 0.20 to 100 in 0.22.\", FutureWarning)\n",
      "D:\\ProgramFiles\\lib\\site-packages\\sklearn\\metrics\\classification.py:1437: UndefinedMetricWarning: F-score is ill-defined and being set to 0.0 due to no predicted samples.\n",
      "  'precision', 'predicted', average, warn_for)\n"
     ]
    },
    {
     "name": "stdout",
     "output_type": "stream",
     "text": [
      "Accuracy Score : 0.9674372968663764\n"
     ]
    },
    {
     "data": {
      "image/png": "[encoded data removed]",
      "text/plain": [
       "<Figure size 720x360 with 2 Axes>"
      ]
     },
     "metadata": {
      "needs_background": "light"
     },
     "output_type": "display_data"
    }
   ],
   "source": [
    "filename = \"bank_vs_demo_dataset_open.csv\"\n",
    "train_features, test_features, train_labels, test_labels = file_read_clean(filename)\n",
    "train_preds, model = train_evaluate(train_features, train_labels)\n",
    "test_preds = model.predict(test_features)\n",
    "test_f1_score = f1(test_preds, test_labels)\n",
    "matrix,accuracy = confusion_matrix_accuracy(test_labels,test_preds)\n",
    "\n",
    "# create label\n",
    "labels = ['Constant','open']\n",
    "\n",
    "# display the heatmap of confusion matrix on the test data\n",
    "fig, ax = plt.subplots(figsize=(10, 5)) \n",
    "ax.set_title('Confusion Matrix - Test Data')\n",
    "sns.heatmap(matrix, annot =True, fmt=\"d\", xticklabels=labels, yticklabels=labels)\n",
    "\n",
    "plt.xlabel('Predicted Labels')\n",
    "plt.ylabel('Groundtruth')\n",
    "\n",
    "plt.show()"
   ]
  }
 ],
 "metadata": {
  "kernelspec": {
   "display_name": "Python 3",
   "language": "python",
   "name": "python3"
  },
  "language_info": {
   "codemirror_mode": {
    "name": "ipython",
    "version": 3
   },
   "file_extension": ".py",
   "mimetype": "text/x-python",
   "name": "python",
   "nbconvert_exporter": "python",
   "pygments_lexer": "ipython3",
   "version": "3.7.3"
  }
 },
 "nbformat": 4,
 "nbformat_minor": 2
}
