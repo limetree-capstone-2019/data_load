{
 "cells": [
  {
   "cell_type": "code",
   "execution_count": 15,
   "metadata": {},
   "outputs": [],
   "source": [
    "#!/usr/bin/env python\n",
    "import snowflake.connector"
   ]
  },
  {
   "cell_type": "code",
   "execution_count": 16,
   "metadata": {},
   "outputs": [],
   "source": [
    "# Credentials for connecting to snowflake. Migrate to properties file in the future.\n",
    "USER = 'heinzlimetree'\n",
    "ACCOUNT = 'um21928.us-east-1'\n",
    "WAREHOUSE = 'COMPUTE-WH'\n",
    "DATABASE = 'INSTITUTIONS2'\n",
    "SCHEMA = 'PUBLIC'\n",
    "PASSWORD = 'Limetree123'"
   ]
  },
  {
   "cell_type": "code",
   "execution_count": 17,
   "metadata": {},
   "outputs": [],
   "source": [
    "#creating a connection to snowflake to interact with the api\n",
    "con = snowflake.connector.connect(\n",
    "  user=USER,\n",
    "  password=PASSWORD,\n",
    "  account=ACCOUNT,\n",
    "  warehouse=WAREHOUSE,\n",
    "  database=DATABASE,\n",
    "  schema=SCHEMA\n",
    ")"
   ]
  },
  {
   "cell_type": "code",
   "execution_count": 18,
   "metadata": {},
   "outputs": [
    {
     "data": {
      "text/plain": [
       "<snowflake.connector.cursor.SnowflakeCursor at 0x2a4e9d98748>"
      ]
     },
     "execution_count": 18,
     "metadata": {},
     "output_type": "execute_result"
    }
   ],
   "source": [
    "con.cursor().execute(''' CREATE or REPLACE TABLE \n",
    "    irs_incdata(\n",
    "    adjgr_inc NUMERIC,\n",
    "    sal_wagamt NUMERIC,\n",
    "    pens_amt NUMERIC,\n",
    "    amt_unemp NUMERIC,\n",
    "    num_pen NUMERIC,\n",
    "    num_unemp NUMERIC,\n",
    "    tot_inc_amt NUMERIC,\n",
    "    num_ret NUMERIC,\n",
    "    numdep NUMERIC,\n",
    "    state VARCHAR,\n",
    "    year NUMERIC,\n",
    "    agi_stub NUMERIC,\n",
    "    zipcode NUMERIC(5),\n",
    "    PRIMARY KEY(zipcode,year))''')"
   ]
  },
  {
   "cell_type": "code",
   "execution_count": 19,
   "metadata": {},
   "outputs": [
    {
     "data": {
      "text/plain": [
       "<snowflake.connector.cursor.SnowflakeCursor at 0x2a4e9d98da0>"
      ]
     },
     "execution_count": 19,
     "metadata": {},
     "output_type": "execute_result"
    }
   ],
   "source": [
    "con.cursor().execute(''' CREATE or REPLACE TABLE \n",
    "    acs_race(\n",
    "    year_from NUMERIC,\n",
    "    year_to NUMERIC,\n",
    "    zipcode NUMERIC(5),\n",
    "    tot_estimate NUMERIC,\n",
    "    white_estimate NUMERIC,\n",
    "    afam_estimate NUMERIC,\n",
    "    amerind_estimate NUMERIC,\n",
    "    asian_estimate NUMERIC,\n",
    "    haw_estimate NUMERIC,\n",
    "    other_raceestimate NUMERIC,\n",
    "    PRIMARY KEY(zipcode,year_from,year_to))''')"
   ]
  },
  {
   "cell_type": "code",
   "execution_count": 20,
   "metadata": {},
   "outputs": [
    {
     "data": {
      "text/plain": [
       "<snowflake.connector.cursor.SnowflakeCursor at 0x2a4e9d9ac88>"
      ]
     },
     "execution_count": 20,
     "metadata": {},
     "output_type": "execute_result"
    }
   ],
   "source": [
    "con.cursor().execute(''' CREATE or REPLACE TABLE \n",
    "    acs_economy(\n",
    "    year_from NUMERIC,\n",
    "    year_to NUMERIC,\n",
    "    zipcode NUMERIC(5),\n",
    "    emp_over16 NUMERIC,\n",
    "    emp_inlabor NUMERIC,\n",
    "    com_time NUMERIC,\n",
    "    agr_forfish NUMERIC,\n",
    "    construction NUMERIC,\n",
    "    manu NUMERIC,\n",
    "    wholesaletrd NUMERIC,\n",
    "    retail_trade NUMERIC,\n",
    "    transport_andutil NUMERIC,\n",
    "    information NUMERIC,\n",
    "    fin_ins NUMERIC,\n",
    "    profsci_admin NUMERIC,\n",
    "    ed_healthsa NUMERIC,\n",
    "    artent_food NUMERIC,\n",
    "    other_services NUMERIC,\n",
    "    pub_admin NUMERIC,\n",
    "    PRIMARY KEY(zipcode,year_from,year_to))''')"
   ]
  },
  {
   "cell_type": "code",
   "execution_count": 21,
   "metadata": {},
   "outputs": [
    {
     "data": {
      "text/plain": [
       "<snowflake.connector.cursor.SnowflakeCursor at 0x2a4e9d9a240>"
      ]
     },
     "execution_count": 21,
     "metadata": {},
     "output_type": "execute_result"
    }
   ],
   "source": [
    "con.cursor().execute(''' CREATE or REPLACE TABLE\n",
    "acs_housingchar(\n",
    "    year_from NUMERIC,\n",
    "    year_to NUMERIC,\n",
    "    zipcode NUMERIC(5),\n",
    "    total_housingunits NUMERIC,\n",
    "    total_occhouseunits NUMERIC,\n",
    "    total_vachouseunits NUMERIC,\n",
    "    PRIMARY KEY(zipcode,year_from,year_to))''')"
   ]
  },
  {
   "cell_type": "code",
   "execution_count": 22,
   "metadata": {},
   "outputs": [
    {
     "data": {
      "text/plain": [
       "<snowflake.connector.cursor.SnowflakeCursor at 0x2a4e9bec048>"
      ]
     },
     "execution_count": 22,
     "metadata": {},
     "output_type": "execute_result"
    }
   ],
   "source": [
    "con.cursor().execute(''' CREATE or REPLACE TABLE\n",
    "acs_agesex(\n",
    "    year_from NUMERIC,\n",
    "    year_to NUMERIC,\n",
    "    zipcode NUMERIC(5),\n",
    "    total_pop NUMERIC,\n",
    "    tot_male NUMERIC,\n",
    "    tot_fem NUMERIC,\n",
    "    tot_18to24 NUMERIC,\n",
    "    tot_above60 NUMERIC,\n",
    "    tot_median NUMERIC,\n",
    "    PRIMARY KEY(zipcode,year_from,year_to))''')"
   ]
  },
  {
   "cell_type": "code",
   "execution_count": 23,
   "metadata": {},
   "outputs": [
    {
     "data": {
      "text/plain": [
       "<snowflake.connector.cursor.SnowflakeCursor at 0x2a4e9bc2518>"
      ]
     },
     "execution_count": 23,
     "metadata": {},
     "output_type": "execute_result"
    }
   ],
   "source": [
    "con.cursor().execute('''CREATE or REPLACE TABLE \n",
    "  acs_compinfo(\n",
    "    year_from NUMERIC,\n",
    "    year_to NUMERIC,\n",
    "    zipcode\tNUMERIC,\n",
    "    tot_household NUMERIC,\n",
    "    tot_onepluscomp NUMERIC,\n",
    "    oneplus_desktop NUMERIC,\n",
    "    oneplus_smartphone NUMERIC,\n",
    "    oneplus_tablet NUMERIC,\n",
    "    oneplus_othercomp NUMERIC,\n",
    "    nocomp NUMERIC,\n",
    "    with_internet NUMERIC,\n",
    "    with_dialup NUMERIC,\n",
    "    with_broadband NUMERIC,\n",
    "    with_cell NUMERIC,\n",
    "    with_cabfodsl NUMERIC,\n",
    "    with_bb NUMERIC,\n",
    "    total_nointernet NUMERIC,\n",
    "    PRIMARY KEY(zipcode,year_from,year_to))''')"
   ]
  },
  {
   "cell_type": "code",
   "execution_count": null,
   "metadata": {},
   "outputs": [],
   "source": []
  }
 ],
 "metadata": {
  "kernelspec": {
   "display_name": "Python 3",
   "language": "python",
   "name": "python3"
  },
  "language_info": {
   "codemirror_mode": {
    "name": "ipython",
    "version": 3
   },
   "file_extension": ".py",
   "mimetype": "text/x-python",
   "name": "python",
   "nbconvert_exporter": "python",
   "pygments_lexer": "ipython3",
   "version": "3.7.3"
  }
 },
 "nbformat": 4,
 "nbformat_minor": 2
}
